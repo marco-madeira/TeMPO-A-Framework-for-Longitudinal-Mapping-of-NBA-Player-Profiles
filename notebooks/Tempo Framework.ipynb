{
 "cells": [
  {
   "cell_type": "markdown",
   "id": "56a519a2",
   "metadata": {},
   "source": [
    "# Framework Workflow\n",
    "\n",
    "This notebook presents the step-by-step workflow of the framework used in the article DOI: [insert DOI here].\n",
    "\n",
    "It is divided into different stages and sub-stages, ensuring full reproducibility of the analyses conducted in the work.\n",
    "\n",
    "---\n",
    "\n",
    "## Preprocessing Stage\n",
    "\n",
    "This stage includes the visualization and decisions made regarding different observations in the dataset, such as:\n",
    "\n",
    "- Removal of players with low minutes\n",
    "- Removal of highly correlated variables\n",
    "- Calculation of the four moments  \n",
    "  *(Note: For this, we have a separate dataset called `four_moment_nba.csv`, available on Google Drive)*\n",
    "- Analysis of heavy tails\n",
    "- Min-Max transformation\n",
    "- Use of the UMAP dimensionality reduction algorithm\n",
    "\n",
    "---\n",
    "\n",
    "## Clustering Stage\n",
    "\n",
    "This stage includes the visualization and decisions made regarding different behaviors of the data related to clustering:\n",
    "\n",
    "- Visualization of silhouette score and inertia\n",
    "- Silhouette score analysis for specific groups using a blade (knife) plot\n",
    "- Final selection of the optimal number of clusters\n",
    "\n",
    "---\n",
    "\n",
    "## Results Stage\n",
    "\n",
    "Finally, all results presented in the study are included here, except for the UBMG plot, which was created directly in LaTeX.  \n",
    "However, the relevant information is also included in one of the notebook cells."
   ]
  },
  {
   "cell_type": "code",
   "execution_count": 7,
   "id": "794df8a7",
   "metadata": {},
   "outputs": [
    {
     "name": "stdout",
     "output_type": "stream",
     "text": [
      "✅ pandas is already installed.\n",
      "✅ numpy is already installed.\n",
      "✅ scikit-learn is already installed.\n",
      "✅ scipy is already installed.\n",
      "✅ umap-learn is already installed.\n",
      "✅ matplotlib is already installed.\n",
      "✅ seaborn is already installed.\n",
      "✅ plotly is already installed.\n",
      "✅ nbformat is already installed.\n"
     ]
    }
   ],
   "source": [
    "%run ./utils.ipynb"
   ]
  },
  {
   "cell_type": "markdown",
   "id": "bf5aa15d",
   "metadata": {},
   "source": [
    "#### Preprocessing Stage"
   ]
  },
  {
   "cell_type": "code",
   "execution_count": 8,
   "id": "2cbaa7fb",
   "metadata": {},
   "outputs": [],
   "source": [
    "dataset = pd.read_csv(\"nba_dataset.csv\", dtype={\"PLAYER_ID\": str, \"PLAYER_NAME\": str, \"SEASON_ID\": str})"
   ]
  },
  {
   "cell_type": "markdown",
   "id": "3fdcc7b5",
   "metadata": {},
   "source": [
    "##### Removal of players with low minutes"
   ]
  },
  {
   "cell_type": "code",
   "execution_count": 9,
   "id": "92a5c2fc",
   "metadata": {},
   "outputs": [],
   "source": [
    "cdf_graph(dataset, \"MIN_TOTAL\", 'minutes_cdf')\n",
    "\n",
    "# Based on the graph, remove all players with less than 400 minutes in a seasson\n",
    "dataset = dataset[dataset[\"MIN_TOTAL\"] >= 400]\n",
    "metadata = dataset.iloc[:, -12:].copy()\n",
    "dataset_features = dataset.iloc[:, :-12].copy()"
   ]
  },
  {
   "cell_type": "markdown",
   "id": "c26bd80f",
   "metadata": {},
   "source": [
    "##### Removal of high correlated features"
   ]
  },
  {
   "cell_type": "code",
   "execution_count": 10,
   "id": "3728844e",
   "metadata": {},
   "outputs": [
    {
     "name": "stdout",
     "output_type": "stream",
     "text": [
      "CLOSE_SHOT_M_MEAN: PC1=0.2239, PC2=-0.2620\n",
      "CLOSE_SHOT_U_MEAN: PC1=0.2417, PC2=-0.2304\n",
      "CLOSE_SHOT_A_MEAN: PC1=0.2371, PC2=-0.2553\n",
      "CLOSE_SHOT_PCT_MEAN: PC1=0.1457, PC2=-0.2305\n",
      "MID_RANGE_SHOT_M_MEAN: PC1=0.3328, PC2=-0.0452\n",
      "MID_RANGE_SHOT_U_MEAN: PC1=0.3396, PC2=-0.0790\n",
      "MID_RANGE_SHOT_A_MEAN: PC1=0.3420, PC2=-0.0652\n",
      "MID_RANGE_SHOT_PCT_MEAN: PC1=0.3133, PC2=-0.0022\n",
      "LONG_MID_RANGE_SHOT_M_MEAN: PC1=0.2987, PC2=0.0984\n",
      "LONG_MID_RANGE_SHOT_U_MEAN: PC1=0.2966, PC2=0.0850\n",
      "LONG_MID_RANGE_SHOT_A_MEAN: PC1=0.3007, PC2=0.0916\n",
      "LONG_MID_RANGE_SHOT_PCT_MEAN: PC1=0.2675, PC2=0.1526\n",
      "THREE_POINT_SHOT_M_MEAN: PC1=0.0968, PC2=0.4186\n",
      "THREE_POINT_SHOT_U_MEAN: PC1=0.1022, PC2=0.4103\n",
      "THREE_POINT_SHOT_A_MEAN: PC1=0.1009, PC2=0.4165\n",
      "THREE_POINT_SHOT_PCT_MEAN: PC1=0.0606, PC2=0.4263\n",
      "['MIN_MEAN', 'MIN_VAR', 'MIN_SKEW', 'MIN_KUR', 'MIN_TOTAL', 'FGM_MEAN', 'FGM_VAR', 'FGM_SKEW', 'FGM_KUR', 'FGA_MEAN', 'FGA_VAR', 'FGA_SKEW', 'FGA_KUR', 'FG3U_MEAN', 'FG3U_VAR', 'FG3U_SKEW', 'FG3U_KUR', 'FG3A_MEAN', 'FG3A_VAR', 'FG3A_SKEW', 'FG3A_KUR', 'FTM_MEAN', 'FTM_VAR', 'FTM_SKEW', 'FTM_KUR', 'FTA_MEAN', 'FTA_VAR', 'FTA_SKEW', 'FTA_KUR', 'CLOSE_SHOT_U_MEAN', 'CLOSE_SHOT_U_VAR', 'CLOSE_SHOT_U_SKEW', 'CLOSE_SHOT_U_KUR', 'CLOSE_SHOT_A_MEAN', 'CLOSE_SHOT_A_VAR', 'CLOSE_SHOT_A_SKEW', 'CLOSE_SHOT_A_KUR', 'MID_RANGE_SHOT_M_MEAN', 'MID_RANGE_SHOT_M_VAR', 'MID_RANGE_SHOT_M_SKEW', 'MID_RANGE_SHOT_M_KUR', 'MID_RANGE_SHOT_A_MEAN', 'MID_RANGE_SHOT_A_VAR', 'MID_RANGE_SHOT_A_SKEW', 'MID_RANGE_SHOT_A_KUR', 'LONG_MID_RANGE_SHOT_U_MEAN', 'LONG_MID_RANGE_SHOT_U_VAR', 'LONG_MID_RANGE_SHOT_U_SKEW', 'LONG_MID_RANGE_SHOT_U_KUR', 'LONG_MID_RANGE_SHOT_A_MEAN', 'LONG_MID_RANGE_SHOT_A_VAR', 'LONG_MID_RANGE_SHOT_A_SKEW', 'LONG_MID_RANGE_SHOT_A_KUR', 'T_MID_RANGE_SHOT_M_MEAN', 'T_MID_RANGE_SHOT_M_VAR', 'T_MID_RANGE_SHOT_M_SKEW', 'T_MID_RANGE_SHOT_M_KUR', 'T_MID_RANGE_SHOT_U_MEAN', 'T_MID_RANGE_SHOT_U_VAR', 'T_MID_RANGE_SHOT_U_SKEW', 'T_MID_RANGE_SHOT_U_KUR', 'T_MID_RANGE_SHOT_A_MEAN', 'T_MID_RANGE_SHOT_A_VAR', 'T_MID_RANGE_SHOT_A_SKEW', 'T_MID_RANGE_SHOT_A_KUR', 'THREE_POINT_SHOT_M_MEAN', 'THREE_POINT_SHOT_M_VAR', 'THREE_POINT_SHOT_M_SKEW', 'THREE_POINT_SHOT_M_KUR', 'THREE_POINT_SHOT_U_MEAN', 'THREE_POINT_SHOT_U_VAR', 'THREE_POINT_SHOT_U_SKEW', 'THREE_POINT_SHOT_U_KUR', 'THREE_POINT_SHOT_A_MEAN', 'THREE_POINT_SHOT_A_VAR', 'THREE_POINT_SHOT_A_SKEW', 'THREE_POINT_SHOT_A_KUR', 'REB_MEAN', 'REB_VAR', 'REB_SKEW', 'REB_KUR', 'TO_MEAN', 'TO_VAR', 'TO_SKEW', 'TO_KUR', 'PLUS_MINUS_MEAN', 'PLUS_MINUS_VAR', 'PLUS_MINUS_SKEW', 'PLUS_MINUS_KUR', 'E_OFF_RATING_MEAN', 'E_OFF_RATING_VAR', 'E_OFF_RATING_SKEW', 'E_OFF_RATING_KUR', 'E_DEF_RATING_MEAN', 'E_DEF_RATING_VAR', 'E_DEF_RATING_SKEW', 'E_DEF_RATING_KUR', 'E_NET_RATING_MEAN', 'E_NET_RATING_VAR', 'E_NET_RATING_SKEW', 'E_NET_RATING_KUR', 'AST_TOV_MEAN', 'AST_TOV_VAR', 'AST_TOV_SKEW', 'AST_TOV_KUR', 'E_PACE_MEAN', 'E_PACE_VAR', 'E_PACE_SKEW', 'E_PACE_KUR', 'PACE_MEAN', 'PACE_VAR', 'PACE_SKEW', 'PACE_KUR', 'PACE_PER40_MEAN', 'PACE_PER40_VAR', 'PACE_PER40_SKEW', 'PACE_PER40_KUR', 'POSS_MEAN', 'POSS_VAR', 'POSS_SKEW', 'POSS_KUR', 'LONG_MID_RANGE_SHOT_PCT_MEAN', 'LONG_MID_RANGE_SHOT_PCT_VAR', 'LONG_MID_RANGE_SHOT_PCT_SKEW', 'LONG_MID_RANGE_SHOT_PCT_KUR', 'T_MID_RANGE_SHOT_PCT_MEAN', 'T_MID_RANGE_SHOT_PCT_VAR', 'T_MID_RANGE_SHOT_PCT_SKEW', 'T_MID_RANGE_SHOT_PCT_KUR', 'THREE_POINT_SHOT_PCT_MEAN', 'THREE_POINT_SHOT_PCT_VAR', 'THREE_POINT_SHOT_PCT_SKEW', 'THREE_POINT_SHOT_PCT_KUR', 'FG2_PCT_MEAN', 'FG2_PCT_VAR', 'FG2_PCT_SKEW', 'FG2_PCT_KUR', 'FG3_PCT_MEAN', 'FG3_PCT_VAR', 'FG3_PCT_SKEW', 'FG3_PCT_KUR', 'FT_PCT_MEAN', 'FT_PCT_VAR', 'FT_PCT_SKEW', 'FT_PCT_KUR', 'AST_PCT_MEAN', 'AST_PCT_VAR', 'AST_PCT_SKEW', 'AST_PCT_KUR', 'PIE_MEAN', 'PIE_VAR', 'PIE_SKEW', 'PIE_KUR', 'OREB_PCT_MEAN', 'OREB_PCT_VAR', 'OREB_PCT_SKEW', 'OREB_PCT_KUR', 'REB_PCT_MEAN', 'REB_PCT_VAR', 'REB_PCT_SKEW', 'REB_PCT_KUR', 'EFG_PCT_MEAN', 'EFG_PCT_VAR', 'EFG_PCT_SKEW', 'EFG_PCT_KUR', 'TS_PCT_MEAN', 'TS_PCT_VAR', 'TS_PCT_SKEW', 'TS_PCT_KUR', 'USG_PCT_MEAN', 'USG_PCT_VAR', 'USG_PCT_SKEW', 'USG_PCT_KUR', 'E_USG_PCT_MEAN', 'E_USG_PCT_VAR', 'E_USG_PCT_SKEW', 'E_USG_PCT_KUR']\n"
     ]
    }
   ],
   "source": [
    "# NOTE: This step was made to all features, but we gonna use as example the SHOT LOCATION METRICS\n",
    "\n",
    "shot_locations_metrics = [\n",
    "    \"CLOSE_SHOT_M_MEAN\", \"CLOSE_SHOT_U_MEAN\", \"CLOSE_SHOT_A_MEAN\", \"CLOSE_SHOT_PCT_MEAN\",\n",
    "    \"MID_RANGE_SHOT_M_MEAN\", \"MID_RANGE_SHOT_U_MEAN\", \"MID_RANGE_SHOT_A_MEAN\", \"MID_RANGE_SHOT_PCT_MEAN\",\n",
    "    \"LONG_MID_RANGE_SHOT_M_MEAN\", \"LONG_MID_RANGE_SHOT_U_MEAN\", \"LONG_MID_RANGE_SHOT_A_MEAN\", \"LONG_MID_RANGE_SHOT_PCT_MEAN\",\n",
    "    \"THREE_POINT_SHOT_M_MEAN\", \"THREE_POINT_SHOT_U_MEAN\", \"THREE_POINT_SHOT_A_MEAN\", \"THREE_POINT_SHOT_PCT_MEAN\"\n",
    "]\n",
    "\n",
    "# High correlation visualization\n",
    "matrix_of_correlation_graph(dataset_features, shot_locations_metrics)\n",
    "\n",
    "# Pca to remove high correlationated features \n",
    "plot_pca_loadings(dataset_features, shot_locations_metrics)\n",
    "\n",
    "features_to_remove = [\n",
    "    \"MIN\",\n",
    "    \"FGM\",\n",
    "    \"FGA\",\n",
    "    \"FG2M\",\n",
    "    \"FG2U\",\n",
    "    \"FG2A\",\n",
    "    #\"FG3M\",\n",
    "    \"FG3U\",\n",
    "    \"FG3A\",\n",
    "    \"FTM\",\n",
    "    \"FTA\",\n",
    "    #\"FTU\",\n",
    "    #\"CLOSE_SHOT_M\",\n",
    "    \"CLOSE_SHOT_U\",\n",
    "    \"CLOSE_SHOT_A\",\n",
    "    \"MID_RANGE_SHOT_M\",\n",
    "    #\"MID_RANGE_SHOT_U\",\n",
    "    \"MID_RANGE_SHOT_A\",\n",
    "    #\"LONG_MID_RANGE_SHOT_M\",\n",
    "    \"LONG_MID_RANGE_SHOT_U\",\n",
    "    \"LONG_MID_RANGE_SHOT_A\",\n",
    "    \"T_MID_RANGE_SHOT_M\",\n",
    "    \"T_MID_RANGE_SHOT_U\",\n",
    "    \"T_MID_RANGE_SHOT_A\",\n",
    "    \"THREE_POINT_SHOT_M\",\n",
    "    \"THREE_POINT_SHOT_U\",\n",
    "    \"THREE_POINT_SHOT_A\",\n",
    "    #\"OREB\",\n",
    "    #\"DREB\",\n",
    "    \"REB\",\n",
    "    #\"AST\",\n",
    "    #\"STL\",\n",
    "    #\"BLK\",\n",
    "    \"TO\",\n",
    "    #\"PF\",\n",
    "    #\"PTS\",\n",
    "    \"PLUS_MINUS\",\n",
    "    \"E_OFF_RATING\",\n",
    "    #\"OFF_RATING\",\n",
    "    \"E_DEF_RATING\",\n",
    "    #\"DEF_RATING\",\n",
    "    \"E_NET_RATING\",\n",
    "    #\"NET_RATING\",\n",
    "    \"AST_TOV\",\n",
    "    \"E_PACE\",\n",
    "    \"PACE\",\n",
    "    \"PACE_PER40\",\n",
    "    \"POSS\",\n",
    "\n",
    "    #\"CLOSE_SHOT_PCT\",\n",
    "    #\"MID_RANGE_SHOT_PCT\",\n",
    "    \"LONG_MID_RANGE_SHOT_PCT\",\n",
    "    \"T_MID_RANGE_SHOT_PCT\",\n",
    "    \"THREE_POINT_SHOT_PCT\",\n",
    "    #\"FG_PCT\",\n",
    "    \"FG2_PCT\",\n",
    "    \"FG3_PCT\",\n",
    "    \"FT_PCT\",\n",
    "    \"AST_PCT\",\n",
    "    #\"AST_RATIO\",\n",
    "    \"PIE\",\n",
    "    \"OREB_PCT\",\n",
    "    #\"DREB_PCT\",\n",
    "    \"REB_PCT\",\n",
    "    #\"TM_TOV_PCT\",\n",
    "    \"EFG_PCT\",\n",
    "    \"TS_PCT\",\n",
    "    \"USG_PCT\",\n",
    "    \"E_USG_PCT\"\n",
    "]\n",
    "\n",
    "columns_to_remove = [\n",
    "    col for col in dataset.columns\n",
    "    if any(col == base or col.startswith(f\"{base}_\") for base in features_to_remove)\n",
    "]\n",
    "\n",
    "print(columns_to_remove)"
   ]
  },
  {
   "cell_type": "markdown",
   "id": "4a727c94",
   "metadata": {},
   "source": [
    "##### 4 moments of the distribuition"
   ]
  },
  {
   "cell_type": "code",
   "execution_count": 11,
   "id": "3e9d1120",
   "metadata": {},
   "outputs": [
    {
     "name": "stdout",
     "output_type": "stream",
     "text": [
      "84\n"
     ]
    }
   ],
   "source": [
    "#NOTE\n",
    "# The 4 moments is already calculated in the dataset to make it easy to use, here we just filtered the dataset\n",
    "selected_dataset = dataset_features.drop(columns=columns_to_remove)\n",
    "\n",
    "print(len(selected_dataset.columns))"
   ]
  },
  {
   "cell_type": "markdown",
   "id": "2d0595fe",
   "metadata": {},
   "source": [
    "##### Analysis of heavy tails"
   ]
  },
  {
   "cell_type": "code",
   "execution_count": 12,
   "id": "ed90a64f",
   "metadata": {},
   "outputs": [
    {
     "name": "stdout",
     "output_type": "stream",
     "text": [
      "Transforming (log) column 'FG3M_MEAN' with skewness 1.0495\n",
      "Transforming (log) column 'FG3M_VAR' with skewness 1.2007\n",
      "Transforming (log) column 'FG3M_SKEW' with skewness 2.3431\n",
      "Transforming (log) column 'FG3M_KUR' with skewness 3.9322\n",
      "Transforming (log) column 'FTU_MEAN' with skewness 2.8049\n",
      "Transforming (log) column 'FTU_VAR' with skewness 4.7233\n",
      "Transforming (log) column 'FTU_SKEW' with skewness 1.4440\n",
      "Transforming (log) column 'FTU_KUR' with skewness 3.5215\n",
      "Transforming (log) column 'CLOSE_SHOT_M_MEAN' with skewness 1.3028\n",
      "Transforming (log) column 'CLOSE_SHOT_M_VAR' with skewness 1.2047\n",
      "Transforming (log) column 'CLOSE_SHOT_M_SKEW' with skewness 1.6502\n",
      "Transforming (log) column 'CLOSE_SHOT_M_KUR' with skewness 7.9726\n",
      "Transforming (log) column 'MID_RANGE_SHOT_U_MEAN' with skewness 1.6913\n",
      "Transforming (log) column 'MID_RANGE_SHOT_U_VAR' with skewness 2.0919\n",
      "Transforming (log) column 'MID_RANGE_SHOT_U_SKEW' with skewness 2.1398\n",
      "Transforming (log) column 'MID_RANGE_SHOT_U_KUR' with skewness 5.8407\n",
      "Transforming (log) column 'LONG_MID_RANGE_SHOT_M_MEAN' with skewness 1.5459\n",
      "Transforming (log) column 'LONG_MID_RANGE_SHOT_M_VAR' with skewness 1.8957\n",
      "Transforming (log) column 'LONG_MID_RANGE_SHOT_M_SKEW' with skewness 1.8569\n",
      "Transforming (log) column 'LONG_MID_RANGE_SHOT_M_KUR' with skewness 3.7440\n",
      "Transforming (log) column 'OREB_MEAN' with skewness 1.3295\n",
      "Transforming (log) column 'OREB_VAR' with skewness 1.5621\n",
      "Transforming (log) column 'OREB_SKEW' with skewness 1.0371\n",
      "Transforming (log) column 'OREB_KUR' with skewness 2.6691\n",
      "Transforming (log) column 'DREB_MEAN' with skewness 1.2936\n",
      "Transforming (log) column 'DREB_VAR' with skewness 1.3577\n",
      "Transforming (log) column 'DREB_KUR' with skewness 3.1598\n",
      "Transforming (log) column 'AST_MEAN' with skewness 1.6563\n",
      "Transforming (log) column 'AST_VAR' with skewness 1.8977\n",
      "Transforming (log) column 'AST_KUR' with skewness 3.3716\n",
      "Transforming (log) column 'STL_MEAN' with skewness 1.0656\n",
      "Transforming (log) column 'STL_VAR' with skewness 1.3534\n",
      "Transforming (log) column 'STL_SKEW' with skewness 1.0841\n",
      "Transforming (log) column 'STL_KUR' with skewness 2.7612\n",
      "Transforming (log) column 'BLK_MEAN' with skewness 2.2442\n",
      "Transforming (log) column 'BLK_VAR' with skewness 2.6861\n",
      "Transforming (log) column 'BLK_SKEW' with skewness 1.8672\n",
      "Transforming (log) column 'BLK_KUR' with skewness 4.3286\n",
      "Transforming (log) column 'PF_KUR' with skewness 4.0396\n",
      "Transforming (log) column 'PTS_MEAN' with skewness 1.0339\n",
      "Transforming (log) column 'PTS_VAR' with skewness 1.1305\n",
      "Transforming (log) column 'PTS_KUR' with skewness 3.9211\n",
      "Transforming (log) column 'OFF_RATING_VAR' with skewness 2.4404\n",
      "Transforming (log) column 'OFF_RATING_KUR' with skewness 4.4079\n",
      "Transforming (log) column 'DEF_RATING_VAR' with skewness 2.6218\n",
      "Transforming (log) column 'DEF_RATING_KUR' with skewness 4.6388\n",
      "Transforming (log) column 'NET_RATING_VAR' with skewness 2.6801\n",
      "Transforming (log) column 'NET_RATING_KUR' with skewness 4.6432\n",
      "Transforming (log) column 'CLOSE_SHOT_PCT_SKEW' with skewness 2.3749\n",
      "Transforming (log) column 'CLOSE_SHOT_PCT_KUR' with skewness 22.6030\n",
      "Transforming (log) column 'MID_RANGE_SHOT_PCT_SKEW' with skewness 1.6938\n",
      "Transforming (log) column 'MID_RANGE_SHOT_PCT_KUR' with skewness 4.1472\n",
      "Transforming (log) column 'FG_PCT_VAR' with skewness 1.0041\n",
      "Transforming (log) column 'FG_PCT_KUR' with skewness 1.1534\n",
      "Transforming (log) column 'AST_RATIO_VAR' with skewness 1.8769\n",
      "Transforming (log) column 'AST_RATIO_SKEW' with skewness 1.2829\n",
      "Transforming (log) column 'AST_RATIO_KUR' with skewness 3.1738\n",
      "Transforming (log) column 'DREB_PCT_VAR' with skewness 2.6234\n",
      "Transforming (log) column 'DREB_PCT_SKEW' with skewness 2.1531\n",
      "Transforming (log) column 'DREB_PCT_KUR' with skewness 4.1675\n",
      "Transforming (log) column 'TM_TOV_PCT_VAR' with skewness 2.1170\n",
      "Transforming (log) column 'TM_TOV_PCT_SKEW' with skewness 1.1535\n",
      "Transforming (log) column 'TM_TOV_PCT_KUR' with skewness 2.5941\n",
      "Index(['FG3M_MEAN', 'FG3M_VAR', 'FG3M_SKEW', 'FG3M_KUR', 'FTU_MEAN', 'FTU_VAR',\n",
      "       'FTU_SKEW', 'FTU_KUR', 'CLOSE_SHOT_M_MEAN', 'CLOSE_SHOT_M_VAR',\n",
      "       'CLOSE_SHOT_M_SKEW', 'CLOSE_SHOT_M_KUR', 'MID_RANGE_SHOT_U_MEAN',\n",
      "       'MID_RANGE_SHOT_U_VAR', 'MID_RANGE_SHOT_U_SKEW', 'MID_RANGE_SHOT_U_KUR',\n",
      "       'LONG_MID_RANGE_SHOT_M_MEAN', 'LONG_MID_RANGE_SHOT_M_VAR',\n",
      "       'LONG_MID_RANGE_SHOT_M_SKEW', 'LONG_MID_RANGE_SHOT_M_KUR', 'OREB_MEAN',\n",
      "       'OREB_VAR', 'OREB_SKEW', 'OREB_KUR', 'DREB_MEAN', 'DREB_VAR',\n",
      "       'DREB_SKEW', 'DREB_KUR', 'AST_MEAN', 'AST_VAR', 'AST_SKEW', 'AST_KUR',\n",
      "       'STL_MEAN', 'STL_VAR', 'STL_SKEW', 'STL_KUR', 'BLK_MEAN', 'BLK_VAR',\n",
      "       'BLK_SKEW', 'BLK_KUR', 'PF_MEAN', 'PF_VAR', 'PF_SKEW', 'PF_KUR',\n",
      "       'PTS_MEAN', 'PTS_VAR', 'PTS_SKEW', 'PTS_KUR', 'OFF_RATING_MEAN',\n",
      "       'OFF_RATING_VAR', 'OFF_RATING_SKEW', 'OFF_RATING_KUR',\n",
      "       'DEF_RATING_MEAN', 'DEF_RATING_VAR', 'DEF_RATING_SKEW',\n",
      "       'DEF_RATING_KUR', 'NET_RATING_MEAN', 'NET_RATING_VAR',\n",
      "       'NET_RATING_SKEW', 'NET_RATING_KUR', 'CLOSE_SHOT_PCT_MEAN',\n",
      "       'CLOSE_SHOT_PCT_VAR', 'CLOSE_SHOT_PCT_SKEW', 'CLOSE_SHOT_PCT_KUR',\n",
      "       'MID_RANGE_SHOT_PCT_MEAN', 'MID_RANGE_SHOT_PCT_VAR',\n",
      "       'MID_RANGE_SHOT_PCT_SKEW', 'MID_RANGE_SHOT_PCT_KUR', 'FG_PCT_MEAN',\n",
      "       'FG_PCT_VAR', 'FG_PCT_SKEW', 'FG_PCT_KUR', 'AST_RATIO_MEAN',\n",
      "       'AST_RATIO_VAR', 'AST_RATIO_SKEW', 'AST_RATIO_KUR', 'DREB_PCT_MEAN',\n",
      "       'DREB_PCT_VAR', 'DREB_PCT_SKEW', 'DREB_PCT_KUR', 'TM_TOV_PCT_MEAN',\n",
      "       'TM_TOV_PCT_VAR', 'TM_TOV_PCT_SKEW', 'TM_TOV_PCT_KUR'],\n",
      "      dtype='object')\n"
     ]
    }
   ],
   "source": [
    "# Create a file summarizing the features\n",
    "summarize_features(selected_dataset)\n",
    "\n",
    "# Plot the distribution of each feature in batches\n",
    "#plot_histograms_in_batches(selected_dataset, batch_size=10)\n",
    "\n",
    "# Transform features with high skewness\n",
    "dataset_transformed = transform_skewed_features(selected_dataset)\n",
    "\n",
    "print(dataset_transformed.columns)"
   ]
  },
  {
   "cell_type": "markdown",
   "id": "780e3d30",
   "metadata": {},
   "source": [
    "##### Normalization"
   ]
  },
  {
   "cell_type": "code",
   "execution_count": 13,
   "id": "df45c994",
   "metadata": {},
   "outputs": [
    {
     "name": "stderr",
     "output_type": "stream",
     "text": [
      "C:\\Users\\TULIO\\AppData\\Local\\Temp\\ipykernel_19876\\500306809.py:23: DeprecationWarning: DataFrameGroupBy.apply operated on the grouping columns. This behavior is deprecated, and in a future version of pandas the grouping columns will be excluded from the operation. Either pass `include_groups=False` to exclude the groupings or explicitly select the grouping columns after groupby to silence this warning.\n",
      "  df = df.groupby('SEASON_ID', group_keys=False).apply(scale_group)\n"
     ]
    }
   ],
   "source": [
    "dataset_transformed = pd.concat([\n",
    "    dataset_transformed.reset_index(drop=True),\n",
    "    metadata.reset_index(drop=True)\n",
    "], axis=1)\n",
    "\n",
    "dataset_scaled = time_fixer(dataset_transformed)"
   ]
  },
  {
   "cell_type": "markdown",
   "id": "838f7ed1",
   "metadata": {},
   "source": [
    "##### Dimensionality reduction"
   ]
  },
  {
   "cell_type": "code",
   "execution_count": 14,
   "id": "aa0d0f7b",
   "metadata": {},
   "outputs": [
    {
     "name": "stderr",
     "output_type": "stream",
     "text": [
      "c:\\Users\\TULIO\\AppData\\Local\\Programs\\Python\\Python312\\Lib\\site-packages\\umap\\umap_.py:1952: UserWarning: n_jobs value 1 overridden to 1 by setting random_state. Use no seed for parallelism.\n",
      "  warn(\n"
     ]
    }
   ],
   "source": [
    "# NOTE: We gonna need a SEED thoroug our next steps, here we selected on by a random selector.\n",
    "# if you need a random seed use -> random.randint(0, 2**32 - 1)\n",
    "# We go to use the one used in the paper!\n",
    "\n",
    "seed=2610048211\n",
    "dataset_embedding = umap_method(dataset_scaled, n_components=15, n_neighbors=5, random_state=seed)"
   ]
  },
  {
   "cell_type": "markdown",
   "id": "57ac1636",
   "metadata": {},
   "source": [
    "#### Clustering Stage"
   ]
  },
  {
   "cell_type": "code",
   "execution_count": 15,
   "id": "d5e6d786",
   "metadata": {},
   "outputs": [
    {
     "name": "stdout",
     "output_type": "stream",
     "text": [
      "Clusters=2, Mean Silhouette=0.4748, 95% CI ±0.0000\n",
      "Clusters=3, Mean Silhouette=0.4874, 95% CI ±0.0003\n",
      "Clusters=4, Mean Silhouette=0.4906, 95% CI ±0.0314\n",
      "Clusters=5, Mean Silhouette=0.4844, 95% CI ±0.0001\n",
      "Clusters=6, Mean Silhouette=0.4451, 95% CI ±0.0081\n",
      "Clusters=7, Mean Silhouette=0.4134, 95% CI ±0.0083\n",
      "Clusters=8, Mean Silhouette=0.3935, 95% CI ±0.0090\n",
      "Clusters=9, Mean Silhouette=0.3907, 95% CI ±0.0101\n",
      "Clusters=10, Mean Silhouette=0.3850, 95% CI ±0.0062\n",
      "2\n",
      "61312.20065104167\n",
      "3\n",
      "31965.0896484375\n",
      "4\n",
      "22678.734375\n",
      "5\n",
      "15470.97060546875\n",
      "6\n",
      "13595.449739583333\n",
      "7\n",
      "11996.09599609375\n",
      "8\n",
      "10560.16630859375\n",
      "9\n",
      "9611.462076822916\n"
     ]
    },
    {
     "data": {
      "image/png": "[encoded data removed]",
      "text/plain": [
       "<Figure size 400x300 with 1 Axes>"
      ]
     },
     "metadata": {},
     "output_type": "display_data"
    },
    {
     "name": "stdout",
     "output_type": "stream",
     "text": [
      "Average Silhouette Score: 0.4847\n"
     ]
    }
   ],
   "source": [
    "# Plot the silhouette score of every cluster\n",
    "plot_silhouette_analysis(dataset_embedding)\n",
    "\n",
    "# Plot the inertia score of every cluster\n",
    "plot_inertia_analysis(dataset_embedding)\n",
    "\n",
    "# Plot blade graph for a specific cluster\n",
    "plot_silhouette_blades(dataset_embedding, 5, seed=seed)\n",
    "\n",
    "\n",
    "# Final clusterization\n",
    "kmeans_labels, score, outliers, centroid, inertia = kmeans_method(\n",
    "    embedding=dataset_embedding,\n",
    "    n_clusters=5,\n",
    "    seed=seed,\n",
    "    plot=False\n",
    ")\n",
    "\n",
    "# Final organization of the dataset to use throug the result section\n",
    "raw_features, features_with_meta, minmax_normalized = formatted_data_to_analysis(features=dataset_scaled,metadata=metadata,labels=kmeans_labels)"
   ]
  },
  {
   "cell_type": "markdown",
   "id": "d12d4541",
   "metadata": {},
   "source": [
    "#### Results Stage"
   ]
  },
  {
   "cell_type": "code",
   "execution_count": null,
   "id": "1e6855b3",
   "metadata": {},
   "outputs": [
    {
     "name": "stdout",
     "output_type": "stream",
     "text": [
      "Variável: FG3M_MEAN, Diferença Máxima: 0.4732478731195785\n",
      "Variável: LONG_MID_RANGE_SHOT_M_MEAN, Diferença Máxima: 0.39839551870733\n",
      "Variável: BLK_MEAN, Diferença Máxima: 0.34656929688852683\n",
      "Variável: AST_RATIO_MEAN, Diferença Máxima: 0.2959849567267837\n",
      "Variável: MID_RANGE_SHOT_U_MEAN, Diferença Máxima: 0.28320981411053914\n",
      "Variável: FTU_MEAN, Diferença Máxima: 0.28251461196153926\n",
      "Variável: MID_RANGE_SHOT_PCT_MEAN, Diferença Máxima: 0.27520814912939595\n",
      "Variável: DREB_PCT_MEAN, Diferença Máxima: 0.24999581353056538\n",
      "Variável: TM_TOV_PCT_MEAN, Diferença Máxima: 0.23039909834797076\n",
      "Variável: PF_MEAN, Diferença Máxima: 0.20709897146203504\n"
     ]
    },
    {
     "ename": "NameError",
     "evalue": "name 'FuncFormatter' is not defined",
     "output_type": "error",
     "traceback": [
      "\u001b[31m---------------------------------------------------------------------------\u001b[39m",
      "\u001b[31mNameError\u001b[39m                                 Traceback (most recent call last)",
      "\u001b[36mCell\u001b[39m\u001b[36m \u001b[39m\u001b[32mIn[20]\u001b[39m\u001b[32m, line 11\u001b[39m\n\u001b[32m      7\u001b[39m awards_by_cluster(features_with_meta)\n\u001b[32m      9\u001b[39m gini_most(minmax_normalized, \u001b[32m10\u001b[39m)\n\u001b[32m---> \u001b[39m\u001b[32m11\u001b[39m \u001b[43mginix_diference_plot\u001b[49m\u001b[43m(\u001b[49m\u001b[43mfeatures_with_meta\u001b[49m\u001b[43m,\u001b[49m\u001b[43m \u001b[49m\u001b[33;43m\"\u001b[39;49m\u001b[33;43mFG3M_MEAN\u001b[39;49m\u001b[33;43m\"\u001b[39;49m\u001b[43m,\u001b[49m\u001b[43m \u001b[49m\u001b[33;43m\"\u001b[39;49m\u001b[33;43mfg3m\u001b[39;49m\u001b[33;43m\"\u001b[39;49m\u001b[43m)\u001b[49m\n\u001b[32m     13\u001b[39m plotradar(minmax_normalized, colors)\n\u001b[32m     15\u001b[39m \u001b[38;5;66;03m# Select specific seasons for the UBMG graph\u001b[39;00m\n",
      "\u001b[36mFile \u001b[39m\u001b[32m~\\AppData\\Local\\Temp\\ipykernel_19876\\4253656648.py:38\u001b[39m, in \u001b[36mginix_diference_plot\u001b[39m\u001b[34m(df, column, title)\u001b[39m\n\u001b[32m     36\u001b[39m \u001b[38;5;28;01mdef\u001b[39;00m\u001b[38;5;250m \u001b[39m\u001b[34mdecimal_format\u001b[39m(x, pos):\n\u001b[32m     37\u001b[39m     \u001b[38;5;28;01mreturn\u001b[39;00m \u001b[33mf\u001b[39m\u001b[33m'\u001b[39m\u001b[38;5;132;01m{\u001b[39;00mx\u001b[38;5;132;01m:\u001b[39;00m\u001b[33m.1f\u001b[39m\u001b[38;5;132;01m}\u001b[39;00m\u001b[33m'\u001b[39m\n\u001b[32m---> \u001b[39m\u001b[32m38\u001b[39m formatter = \u001b[43mFuncFormatter\u001b[49m(decimal_format)\n\u001b[32m     40\u001b[39m plt.figure(figsize=(\u001b[32m4\u001b[39m, \u001b[32m3\u001b[39m))\n\u001b[32m     42\u001b[39m plt.bar(x=x_vals, height=graph_df[\u001b[33m'\u001b[39m\u001b[33mmean\u001b[39m\u001b[33m'\u001b[39m], color=\u001b[33m'\u001b[39m\u001b[33mred\u001b[39m\u001b[33m'\u001b[39m, alpha=\u001b[32m0.7\u001b[39m)\n",
      "\u001b[31mNameError\u001b[39m: name 'FuncFormatter' is not defined"
     ]
    },
    {
     "data": {
      "image/png": "[encoded data removed]",
      "text/plain": [
       "<Figure size 600x300 with 1 Axes>"
      ]
     },
     "metadata": {},
     "output_type": "display_data"
    }
   ],
   "source": [
    "cluster_size(features_with_meta, \"cluster_size\")\n",
    "\n",
    "cluster_members_by_year(features_with_meta)\n",
    "\n",
    "cluster_members_total(features_with_meta)\n",
    "\n",
    "awards_by_cluster(features_with_meta)\n",
    "\n",
    "gini_most(minmax_normalized, 10)\n",
    "\n",
    "ginix_diference_plot(features_with_meta, \"FG3M_MEAN\", \"fg3m\")\n",
    "\n",
    "plotradar(minmax_normalized, colors)\n",
    "\n",
    "# Select specific seasons for the UBMG graph\n",
    "specific_seasons = [\"2019-20\", \"2020-21\", \"2021-22\", \"2022-23\", \"2023-24\"]\n",
    "# Analyze cluster migration percentages for the selected seasons\n",
    "ubmg_results = analyze_cluster_migration_percentages(features_with_meta, specific_seasons, n_clusters=5)\n",
    "# To view the resulting table, simply print it\n",
    "# print(ubmg_results)\n",
    "\n",
    "plot_players_position_by_cluster(features_with_meta)\n",
    "\n",
    "#plot_players_shot_map()"
   ]
  }
 ],
 "metadata": {
  "kernelspec": {
   "display_name": "Python 3",
   "language": "python",
   "name": "python3"
  },
  "language_info": {
   "codemirror_mode": {
    "name": "ipython",
    "version": 3
   },
   "file_extension": ".py",
   "mimetype": "text/x-python",
   "name": "python",
   "nbconvert_exporter": "python",
   "pygments_lexer": "ipython3",
   "version": "3.12.3"
  }
 },
 "nbformat": 4,
 "nbformat_minor": 5
}
