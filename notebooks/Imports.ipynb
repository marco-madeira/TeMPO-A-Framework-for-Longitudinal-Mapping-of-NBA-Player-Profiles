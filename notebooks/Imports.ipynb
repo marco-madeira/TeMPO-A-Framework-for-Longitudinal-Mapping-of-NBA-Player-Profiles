{
 "cells": [
  {
   "cell_type": "code",
   "execution_count": null,
   "id": "62f882f7",
   "metadata": {},
   "outputs": [
    {
     "name": "stdout",
     "output_type": "stream",
     "text": [
      "⚠️ scikit-learn version 1.5.2 differs from 1.6.1, updating...\n",
      "✅ umap-learn is already at version 0.5.9.post2.\n",
      "✅ pandas is already installed.\n",
      "✅ numpy is already installed.\n",
      "✅ scipy is already installed.\n",
      "✅ matplotlib is already installed.\n",
      "✅ seaborn is already installed.\n",
      "✅ plotly is already installed.\n",
      "✅ nbformat is already installed.\n"
     ]
    }
   ],
   "source": [
    "import sys\n",
    "import subprocess\n",
    "\n",
    "def install_if_missing(package, import_name=None):\n",
    "    try:\n",
    "        __import__(import_name or package)\n",
    "        print(f\"✅ {package} is already installed.\")\n",
    "    except ImportError:\n",
    "        print(f\"📦 Installing {package}...\")\n",
    "        subprocess.check_call([sys.executable, \"-m\", \"pip\", \"install\", package])\n",
    "\n",
    "packages = {\n",
    "    \"pandas\": \"pandas\",\n",
    "    \"numpy\": \"numpy\",\n",
    "    \"scikit-learn\": \"sklearn\",\n",
    "    \"scipy\": \"scipy\",\n",
    "    \"umap-learn\": \"umap\",\n",
    "    \"matplotlib\": \"matplotlib\",\n",
    "    \"seaborn\": \"seaborn\",\n",
    "    \"plotly\": \"plotly\",\n",
    "    \"nbformat\": \"nbformat\"\n",
    "}\n",
    "\n",
    "for pkg, imp in packages.items():\n",
    "    install_if_missing(pkg, imp)"
   ]
  },
  {
   "cell_type": "code",
   "execution_count": 1,
   "id": "55809724",
   "metadata": {},
   "outputs": [
    {
     "name": "stderr",
     "output_type": "stream",
     "text": [
      "c:\\Users\\TULIO\\AppData\\Local\\Programs\\Python\\Python312\\Lib\\site-packages\\tqdm\\auto.py:21: TqdmWarning: IProgress not found. Please update jupyter and ipywidgets. See https://ipywidgets.readthedocs.io/en/stable/user_install.html\n",
      "  from .autonotebook import tqdm as notebook_tqdm\n"
     ]
    }
   ],
   "source": [
    "import pandas as pd\n",
    "import numpy as np\n",
    "import ast\n",
    "import time\n",
    "import random\n",
    "\n",
    "from sklearn.preprocessing import (\n",
    "    StandardScaler,\n",
    "    MinMaxScaler,\n",
    "    RobustScaler,\n",
    "    minmax_scale\n",
    ")\n",
    "from sklearn.model_selection import train_test_split\n",
    "from sklearn.neighbors import LocalOutlierFactor\n",
    "\n",
    "from sklearn.cluster import KMeans, AgglomerativeClustering\n",
    "from sklearn.metrics import silhouette_samples, silhouette_score, euclidean_distances\n",
    "from scipy.spatial.distance import cdist\n",
    "from sklearn.metrics import pairwise_distances\n",
    "\n",
    "from sklearn.decomposition import PCA\n",
    "from sklearn.manifold import TSNE\n",
    "import umap\n",
    "\n",
    "from scipy import stats\n",
    "from scipy.stats import boxcox\n",
    "from scipy.interpolate import interp1d\n",
    "import itertools\n",
    "from itertools import combinations, cycle\n",
    "import math\n",
    "\n",
    "import matplotlib.pyplot as plt\n",
    "import matplotlib\n",
    "import matplotlib.cm as cm\n",
    "import matplotlib.lines as mlines\n",
    "import matplotlib.patches as mpatches\n",
    "from matplotlib.patches import Circle, Rectangle, Arc\n",
    "from mpl_toolkits.mplot3d import Axes3D\n",
    "import seaborn as sns\n",
    "import plotly.express as px\n",
    "from IPython.display import display\n",
    "import plotly.graph_objects as go\n",
    "from matplotlib.ticker import FuncFormatter"
   ]
  }
 ],
 "metadata": {
  "kernelspec": {
   "display_name": "Python 3",
   "language": "python",
   "name": "python3"
  },
  "language_info": {
   "codemirror_mode": {
    "name": "ipython",
    "version": 3
   },
   "file_extension": ".py",
   "mimetype": "text/x-python",
   "name": "python",
   "nbconvert_exporter": "python",
   "pygments_lexer": "ipython3",
   "version": "3.12.3"
  }
 },
 "nbformat": 4,
 "nbformat_minor": 5
}
