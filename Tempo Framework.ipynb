{
 "cells": [
  {
   "cell_type": "markdown",
   "id": "56a519a2",
   "metadata": {},
   "source": [
    "# Framework Workflow\n",
    "\n",
    "This notebook presents the step-by-step workflow of the framework used in the article DOI: [insert DOI here].\n",
    "\n",
    "It is divided into different stages and sub-stages, ensuring full reproducibility of the analyses conducted in the work.\n",
    "\n",
    "---\n",
    "\n",
    "## Preprocessing Stage\n",
    "\n",
    "This stage includes the visualization and decisions made regarding different observations in the dataset, such as:\n",
    "\n",
    "- Removal of players with low minutes\n",
    "- Removal of highly correlated variables\n",
    "- Calculation of the four moments  \n",
    "  *(Note: For this, we have a separate dataset called `four_moment_nba.csv`, available on Google Drive)*\n",
    "- Analysis of heavy tails\n",
    "- Min-Max transformation\n",
    "- Use of the UMAP dimensionality reduction algorithm\n",
    "\n",
    "---\n",
    "\n",
    "## Clustering Stage\n",
    "\n",
    "This stage includes the visualization and decisions made regarding different behaviors of the data related to clustering:\n",
    "\n",
    "- Visualization of silhouette score and inertia\n",
    "- Silhouette score analysis for specific groups using a blade (knife) plot\n",
    "- Final selection of the optimal number of clusters\n",
    "\n",
    "---\n",
    "\n",
    "## Results Stage\n",
    "\n",
    "Finally, all results presented in the study are included here, except for the UBMG plot, which was created directly in LaTeX.  \n",
    "However, the relevant information is also included in one of the notebook cells."
   ]
  },
  {
   "cell_type": "code",
   "execution_count": null,
   "id": "a5a58ebe",
   "metadata": {},
   "outputs": [],
   "source": [
    "features_to_remove = [\n",
    "    \"MIN\",\n",
    "    \"FGM\",\n",
    "    \"FGA\",\n",
    "    \"FG2M\",\n",
    "    \"FG2U\",\n",
    "    \"FG2A\",\n",
    "    #\"FG3M\",\n",
    "    \"FG3U\",\n",
    "    \"FG3A\",\n",
    "    \"FTM\",\n",
    "    \"FTA\",\n",
    "    #\"FTU\",\n",
    "    #\"CLOSE_SHOT_M\",\n",
    "    \"CLOSE_SHOT_U\",\n",
    "    \"CLOSE_SHOT_A\",\n",
    "    \"MID_RANGE_SHOT_M\",\n",
    "    #\"MID_RANGE_SHOT_U\",\n",
    "    \"MID_RANGE_SHOT_A\",\n",
    "    #\"LONG_MID_RANGE_SHOT_M\",\n",
    "    \"LONG_MID_RANGE_SHOT_U\",\n",
    "    \"LONG_MID_RANGE_SHOT_A\",\n",
    "    \"T_MID_RANGE_SHOT_M\",\n",
    "    \"T_MID_RANGE_SHOT_U\",\n",
    "    \"T_MID_RANGE_SHOT_A\",\n",
    "    \"THREE_POINT_SHOT_M\",\n",
    "    \"THREE_POINT_SHOT_U\",\n",
    "    \"THREE_POINT_SHOT_A\",\n",
    "    #\"OREB\",\n",
    "    #\"DREB\",\n",
    "    \"REB\",\n",
    "    #\"AST\",\n",
    "    #\"STL\",\n",
    "    #\"BLK\",\n",
    "    \"TO\",\n",
    "    #\"PF\",\n",
    "    #\"PTS\",\n",
    "    \"PLUS_MINUS\",\n",
    "    \"E_OFF_RATING\",\n",
    "    #\"OFF_RATING\",\n",
    "    \"E_DEF_RATING\",\n",
    "    #\"DEF_RATING\",\n",
    "    \"E_NET_RATING\",\n",
    "    #\"NET_RATING\",\n",
    "    \"AST_TOV\",\n",
    "    \"E_PACE\",\n",
    "    \"PACE\",\n",
    "    \"PACE_PER40\",\n",
    "    \"POSS\",\n",
    "\n",
    "    \"TM_FG2M_PCT\",\n",
    "    \"TM_FG2U_PCT\",\n",
    "    \"TM_FG2A_PCT\",\n",
    "    \"TM_FG3M_PCT\",\n",
    "    \"TM_FG3U_PCT\",\n",
    "    \"TM_FG3A_PCT\",\n",
    "    \"TM_FTM_PCT\",\n",
    "    \"TM_FTU_PCT\",\n",
    "    \"TM_FTA_PCT\",\n",
    "    \"TM_OREB_PCT\",\n",
    "    \"TM_DREB_PCT\",\n",
    "    \"TM_REB_PCT\",\n",
    "    \"TM_AST_PCT\",\n",
    "    \"TM_STL_PCT\",\n",
    "    \"TM_BLK_PCT\",\n",
    "    \"TM_TO_PCT\",\n",
    "    \"TM_PF_PCT\",\n",
    "    \"TM_PTS_PCT\",\n",
    "\n",
    "    #\"CLOSE_SHOT_PCT\",\n",
    "    #\"MID_RANGE_SHOT_PCT\",\n",
    "    \"LONG_MID_RANGE_SHOT_PCT\",\n",
    "    \"T_MID_RANGE_SHOT_PCT\",\n",
    "    \"THREE_POINT_SHOT_PCT\",\n",
    "    #\"FG_PCT\",\n",
    "    \"FG2_PCT\",\n",
    "    \"FG3_PCT\",\n",
    "    \"FT_PCT\",\n",
    "    \"AST_PCT\",\n",
    "    #\"AST_RATIO\",\n",
    "    \"PIE\",\n",
    "    \"OREB_PCT\",\n",
    "    #\"DREB_PCT\",\n",
    "    \"REB_PCT\",\n",
    "    #\"TM_TOV_PCT\",\n",
    "    \"EFG_PCT\",\n",
    "    \"TS_PCT\",\n",
    "    \"USG_PCT\",\n",
    "    \"E_USG_PCT\"\n",
    "]"
   ]
  },
  {
   "cell_type": "markdown",
   "id": "bf5aa15d",
   "metadata": {},
   "source": [
    "#### Preprocessing Stage"
   ]
  },
  {
   "cell_type": "code",
   "execution_count": null,
   "id": "2cbaa7fb",
   "metadata": {},
   "outputs": [],
   "source": [
    "# Loading the dataset\n",
    "# NOTE: The dataset that is loaded here, is not the one with all the four moments, only the mean!!!\n",
    "\n",
    "dataset = pd.read_csv(\"nba_dataset.csv\", dtype={\"PLAYER_ID\": str, \"PLAYER_NAME\": str, \"SEASON_ID\": str})\n",
    "\n",
    "# We have some metadata, like the name of the player, individual awards and others one.\n",
    "metadata = dataset.iloc[:, -12:].copy()\n",
    "dataset_features = dataset.iloc[:, :-12].copy()"
   ]
  },
  {
   "cell_type": "markdown",
   "id": "3fdcc7b5",
   "metadata": {},
   "source": [
    "##### Removal of players with low minutes"
   ]
  },
  {
   "cell_type": "code",
   "execution_count": null,
   "id": "92a5c2fc",
   "metadata": {},
   "outputs": [],
   "source": [
    "cdf_graph(dataset: dataset_features, column: \"MIN_TOTAL\", title: 'minutes_cdf')\n",
    "\n",
    "# Based on the graph, remove all players with less than 400 minutes in a seasson\n",
    "dataset_features = dataset_features[dataset_features[\"MIN_TOTAL\"] >= 400]"
   ]
  },
  {
   "cell_type": "markdown",
   "id": "c26bd80f",
   "metadata": {},
   "source": [
    "##### Removal of high correlated features"
   ]
  },
  {
   "cell_type": "code",
   "execution_count": null,
   "id": "3728844e",
   "metadata": {},
   "outputs": [],
   "source": [
    "# NOTE: This step was made to all features, but we gonna use as example the SHOT LOCATION METRICS\n",
    "\n",
    "shot_locations_metrics = [\n",
    "    \"CLOSE_SHOT_M_MEAN\", \"CLOSE_SHOT_U_MEAN\", \"CLOSE_SHOT_A_MEAN\", \"CLOSE_SHOT_PCT_MEAN\",\n",
    "    \"MID_RANGE_SHOT_M_MEAN\", \"MID_RANGE_SHOT_U_MEAN\", \"MID_RANGE_SHOT_A_MEAN\", \"MID_RANGE_SHOT_PCT_MEAN\",\n",
    "    \"LONG_MID_RANGE_SHOT_M_MEAN\", \"LONG_MID_RANGE_SHOT_U_MEAN\", \"LONG_MID_RANGE_SHOT_A_MEAN\", \"LONG_MID_RANGE_SHOT_PCT_MEAN\",\n",
    "    \"THREE_POINT_SHOT_M_MEAN\", \"THREE_POINT_SHOT_U_MEAN\", \"THREE_POINT_SHOT_A_MEAN\", \"THREE_POINT_SHOT_PCT_MEAN\"\n",
    "]\n",
    "\n",
    "# High correlation visualization\n",
    "matrix_of_correlation_graph(dataset_features, shot_locations_metrics)\n",
    "\n",
    "# Pca to remove high correlationated features \n",
    "plot_pca_loadings(dataset_features, shot_locations_metrics)\n",
    "\n",
    "selected_features = [\n",
    "    \"FG3M\",\n",
    "    \"FTU\",\n",
    "    \"CLOSE_SHOT_M\",\n",
    "    \"MID_RANGE_SHOT_U\",\n",
    "    \"LONG_MID_RANGE_SHOT_M\",\n",
    "    \"OREB\",\n",
    "    \"DREB\",\n",
    "    \"AST\",\n",
    "    \"STL\",\n",
    "    \"BLK\",\n",
    "    \"PF\",\n",
    "    \"PTS\",\n",
    "    \"OFF_RATING\",\n",
    "    \"DEF_RATING\",\n",
    "    \"NET_RATING\",\n",
    "    \"CLOSE_SHOT_PCT\",\n",
    "    \"MID_RANGE_SHOT_PCT\",\n",
    "    \"FG_PCT\",\n",
    "    \"AST_RATIO\",\n",
    "    \"DREB_PCT\",\n",
    "    \"TM_TOV_PCT\"\n",
    "]\n",
    "\n",
    "# NOTE: As said \n",
    "\n",
    "# Filtered dataset with the feature selection\n",
    "selected_dataset = dataset_features.copy()\n",
    "selected_dataset = selected_dataset.drop()"
   ]
  },
  {
   "cell_type": "markdown",
   "id": "2d0595fe",
   "metadata": {},
   "source": [
    "##### Analysis of heavy tails"
   ]
  },
  {
   "cell_type": "code",
   "execution_count": null,
   "id": "ed90a64f",
   "metadata": {},
   "outputs": [],
   "source": [
    "# Create a file summarizing the features\n",
    "summarize_features(selected_dataset)\n",
    "\n",
    "# Plot the distribution of each feature in batches\n",
    "plot_histograms_in_batches(selected_dataset, batch_size=10)\n",
    "\n",
    "# Transform features with high skewness\n",
    "dataset_transformed = transform_skewed_features(selected_dataset)"
   ]
  },
  {
   "cell_type": "markdown",
   "id": "780e3d30",
   "metadata": {},
   "source": [
    "##### Normalization"
   ]
  },
  {
   "cell_type": "code",
   "execution_count": null,
   "id": "df45c994",
   "metadata": {},
   "outputs": [],
   "source": [
    "dataset_scaled = min_max(dataset_transformed)"
   ]
  },
  {
   "cell_type": "markdown",
   "id": "838f7ed1",
   "metadata": {},
   "source": [
    "##### Dimensionality reduction"
   ]
  },
  {
   "cell_type": "code",
   "execution_count": null,
   "id": "aa0d0f7b",
   "metadata": {},
   "outputs": [],
   "source": [
    "# NOTE: We gonna need a SEED thoroug our next steps, here we selected on by a random selector.\n",
    "# if you need a random seed use -> random.randint(0, 2**32 - 1)\n",
    "# We go to use the one used in the paper!\n",
    "\n",
    "seed=2610048211\n",
    "\n",
    "dataset_embedding = umap_method(dataset_scaled, n_components=15, n_neighbors=5, random_state=seed)"
   ]
  },
  {
   "cell_type": "markdown",
   "id": "57ac1636",
   "metadata": {},
   "source": [
    "#### Clustering Stage"
   ]
  },
  {
   "cell_type": "code",
   "execution_count": null,
   "id": "d5e6d786",
   "metadata": {},
   "outputs": [],
   "source": [
    "# Plot the silhouette score of every cluster\n",
    "plot_silhouette_analysis(cluster_dataset_embedding,filename=\"silhoutte_score.pdf\")\n",
    "\n",
    "# Plot the inertia score of every cluster\n",
    "plot_inertia_analysis(cluster_dataset_embedding)\n",
    "\n",
    "# Plot blade graph for a specific cluster\n",
    "plot_silhouette_blades(cluster_dataset_embedding, 5, seed=seed)\n",
    "\n",
    "\n",
    "# Final clusterization\n",
    "kmeans_labels, score, outliers, centroid, inertia = kmeans_method(\n",
    "    embedding=cluster_dataset_embedding,\n",
    "    n_clusters=5,\n",
    "    seed=seed,\n",
    "    plot=False\n",
    ")\n",
    "\n",
    "# Final organization of the dataset to use throug the result section\n",
    "raw_features, features_with_meta, minmax_normalized = formatted_data_to_analysis(features=cluster_dataset_filtered,metadata=metadata,labels=kmeans_labels)"
   ]
  },
  {
   "cell_type": "markdown",
   "id": "d12d4541",
   "metadata": {},
   "source": [
    "#### Results Stage"
   ]
  },
  {
   "cell_type": "code",
   "execution_count": null,
   "id": "1e6855b3",
   "metadata": {},
   "outputs": [],
   "source": [
    "cluster_size(features_with_meta, \"cluster_size\")\n",
    "\n",
    "cluster_members_by_year(features_with_meta)\n",
    "\n",
    "cluster_members_total(features_with_meta)\n",
    "\n",
    "awards_by_cluster(features_with_meta)\n",
    "\n",
    "gini_most(minmax_normalized, 10)\n",
    "\n",
    "ginix_diference_plot(features_with_meta)\n",
    "\n",
    "plotradar(minmax_normalized, colors)\n",
    "\n",
    "# Select specific seasons for the UBMG graph\n",
    "specific_seasons = [\"2019-20\", \"2020-21\", \"2021-22\", \"2022-23\", \"2023-24\"]\n",
    "# Analyze cluster migration percentages for the selected seasons\n",
    "ubmg_results = analyze_cluster_migration_percentages(features_with_meta, specific_seasons, n_clusters=5)\n",
    "# To view the resulting table, simply print it\n",
    "# print(ubmg_results)\n",
    "\n",
    "player_position()\n",
    "\n",
    "player_shot_map()"
   ]
  }
 ],
 "metadata": {
  "language_info": {
   "name": "python"
  }
 },
 "nbformat": 4,
 "nbformat_minor": 5
}
